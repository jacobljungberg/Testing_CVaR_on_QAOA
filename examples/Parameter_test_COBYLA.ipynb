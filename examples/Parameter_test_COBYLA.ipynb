{
 "cells": [
  {
   "cell_type": "code",
   "execution_count": 1,
   "id": "700f47fc",
   "metadata": {},
   "outputs": [],
   "source": [
    "%load_ext autoreload\n",
    "%autoreload 2\n",
    "\n",
    "import pennylane as qml\n",
    "import math\n",
    "from pennylane import qaoa\n",
    "from pennylane import numpy as np\n",
    "import matplotlib.pyplot as plt\n",
    "from vqa.hamiltonian.protein_folding import protein_folding_hamiltonian\n",
    "from vqa.hamiltonian.Protein_models.CoordinateBased_HPLattice import CoordinateBased_HPLattice\n",
    "from vqa.utils.protein_utils import *\n",
    "from collections import Counter\n",
    "import pandas as pd\n",
    "import csv\n",
    "import os.path\n",
    "import scipy\n",
    "from scipy.optimize import minimize"
   ]
  },
  {
   "cell_type": "code",
   "execution_count": 2,
   "id": "83306f5d",
   "metadata": {},
   "outputs": [
    {
     "name": "stdout",
     "output_type": "stream",
     "text": [
      "\n",
      "O:\n",
      "[-2.1, -2.1, -2.1, -2.1, -2.1, -2.1, -2.1, -2.1, -2.1, -2.1, -2.1, -2.1, -2.1, -2.1, -2.1, -2.1, -2.1, -2.1]\n",
      "T:\n",
      "[[ 0.   4.2  4.2  0.   0.   3.   2.4  0.   0.   0.   0.   0.   2.4  0.\n",
      "   0.  -1.  -1.   0. ]\n",
      " [ 4.2  0.   4.2  0.   0.   0.   0.   2.4  0.   0.   0.   0.   0.   2.4\n",
      "   0.  -1.  -1.  -1. ]\n",
      " [ 4.2  4.2  0.   3.   0.   0.   0.   0.   2.4  0.   0.   0.   0.   0.\n",
      "   2.4  0.  -1.  -1. ]\n",
      " [ 0.   0.   3.   0.   4.2  4.2  0.   0.   3.   2.4  0.   0.   0.   0.\n",
      "   0.   2.4  0.   0. ]\n",
      " [ 0.   0.   0.   4.2  0.   4.2  0.   0.   0.   0.   2.4  0.   0.   0.\n",
      "   0.   0.   2.4  0. ]\n",
      " [ 3.   0.   0.   4.2  4.2  0.   3.   0.   0.   0.   0.   2.4  0.   0.\n",
      "   0.   0.   0.   2.4]\n",
      " [ 2.4  0.   0.   0.   0.   3.   0.   4.2  4.2  0.   0.   3.   2.4  0.\n",
      "   0.  -1.  -1.   0. ]\n",
      " [ 0.   2.4  0.   0.   0.   0.   4.2  0.   4.2  0.   0.   0.   0.   2.4\n",
      "   0.  -1.  -1.  -1. ]\n",
      " [ 0.   0.   2.4  3.   0.   0.   4.2  4.2  0.   3.   0.   0.   0.   0.\n",
      "   2.4  0.  -1.  -1. ]\n",
      " [ 0.   0.   0.   2.4  0.   0.   0.   0.   3.   0.   4.2  4.2  0.   0.\n",
      "   3.   2.4  0.   0. ]\n",
      " [ 0.   0.   0.   0.   2.4  0.   0.   0.   0.   4.2  0.   4.2  0.   0.\n",
      "   0.   0.   2.4  0. ]\n",
      " [ 0.   0.   0.   0.   0.   2.4  3.   0.   0.   4.2  4.2  0.   3.   0.\n",
      "   0.   0.   0.   2.4]\n",
      " [ 2.4  0.   0.   0.   0.   0.   2.4  0.   0.   0.   0.   3.   0.   4.2\n",
      "   4.2  0.   0.   3. ]\n",
      " [ 0.   2.4  0.   0.   0.   0.   0.   2.4  0.   0.   0.   0.   4.2  0.\n",
      "   4.2  0.   0.   0. ]\n",
      " [ 0.   0.   2.4  0.   0.   0.   0.   0.   2.4  3.   0.   0.   4.2  4.2\n",
      "   0.   3.   0.   0. ]\n",
      " [-1.  -1.   0.   2.4  0.   0.  -1.  -1.   0.   2.4  0.   0.   0.   0.\n",
      "   3.   0.   4.2  4.2]\n",
      " [-1.  -1.  -1.   0.   2.4  0.  -1.  -1.  -1.   0.   2.4  0.   0.   0.\n",
      "   0.   4.2  0.   4.2]\n",
      " [ 0.  -1.  -1.   0.   0.   2.4  0.  -1.  -1.   0.   0.   2.4  3.   0.\n",
      "   0.   4.2  4.2  0. ]]\n",
      "Dn:\n",
      "[3, 3, 3, 3, 3, 3]\n"
     ]
    }
   ],
   "source": [
    "# Make an instance for the protein\n",
    "sequence = [1,1,1,0,0,1] #HPPH\n",
    "L1 = 3\n",
    "L2 = 2\n",
    "\n",
    "lambda_vector = (2.1, 2.4, 3)\n",
    "\n",
    "protein = CoordinateBased_HPLattice((L1, L2), sequence = sequence, lambda_vector = lambda_vector)\n",
    "print(protein)\n",
    "protein.calc_solution_sets()\n",
    "feasible_set = np.array(protein.feasible_set)"
   ]
  },
  {
   "cell_type": "code",
   "execution_count": 3,
   "id": "84a1d267",
   "metadata": {},
   "outputs": [],
   "source": [
    "# Make into Hamiltonian\n",
    "H_cost = protein_folding_hamiltonian(protein)\n",
    "num_qubits = protein.num_bits\n",
    "qubits = range(protein.num_bits)\n",
    "\n",
    "H_mixer = qaoa.x_mixer(qubits)"
   ]
  },
  {
   "cell_type": "code",
   "execution_count": 4,
   "id": "58e7f972",
   "metadata": {},
   "outputs": [],
   "source": [
    "dev = qml.device('default.qubit', wires = qubits)\n",
    "\n",
    "# Put the Mixer and Cost Hamiltonians in a layer so that we can repeat it\n",
    "def qaoa_layer(gamma, beta):\n",
    "    qaoa.cost_layer(gamma, H_cost)\n",
    "    qaoa.mixer_layer(beta, H_mixer)\n",
    "    \n",
    "# Then repeat it in a circuit with starting in a super position of all bitstrings\n",
    "def circuit(params): # Gamma and Beta values can be put together to be an array of parameters\n",
    "    for q in qubits:     # To start in a superposition we place a Hadamard on all qubits\n",
    "        qml.Hadamard(wires = q)\n",
    "    qml.layer(qaoa_layer, len(params[0]), params[0], params[1])\n",
    "    \n",
    "# Obtains the probability for all the states\n",
    "@qml.qnode(dev)\n",
    "def get_probs(params):\n",
    "    circuit(params)\n",
    "    return qml.probs(wires = qubits)\n",
    "\n",
    "def CVaRsamp(params, alpha=1, n=100):#n=antal samples\n",
    "    \n",
    "    probs = get_probs(params)  # hämta sannolikhetsfördelningen (matris, första värdet är p(00000000), andra är p(00000001) osv)\n",
    "    \n",
    "    index_samples= np.random.choice(np.arange(len(probs), dtype=int), size=n, replace=True,p=probs)  # tar n samples av probs, ger skum lista med index motsvarande konfiguration (index 0 är tillståndet 00000000, index 1 =00000001 osv)\n",
    "    energy_of_samples=energies_of_set(protein.get_solution_set(), H_cost,num_qubits) [index_samples]  #ger en lista där index i index_samples är utbytta mot deras motsvarande energi. \n",
    "    sorted_energy_samples=sort_over_threshhold(energy_of_samples,-1000)[0] #sorterar hela energilistan\n",
    "    K=int(alpha*n) #antal samples att ta väntevärde över. \n",
    "    summa=sum(sorted_energy_samples[:K]) #summera de K minsta energierna.\n",
    "    expvalue=np.float64(summa/K)\n",
    "    \n",
    "    return expvalue"
   ]
  },
  {
   "cell_type": "code",
   "execution_count": 5,
   "id": "46d0ca1b",
   "metadata": {},
   "outputs": [],
   "source": [
    "def cost_execution(params):\n",
    "    params = np.reshape(params, (2, int(len(params)/2)))\n",
    "\n",
    "    global iterations\n",
    "\n",
    "    cost = CVaRsamp(params, alpha=a, n=num_of_samples)\n",
    "\n",
    "    if iterations % 50 == 0:\n",
    "        print(\"Cost at Step {}: {}\".format(iterations, cost))\n",
    "    \n",
    "    params_list.append(params)\n",
    "    cost_list.append(cost)\n",
    "\n",
    "    iterations += 1\n",
    "    return cost"
   ]
  },
  {
   "cell_type": "code",
   "execution_count": null,
   "id": "7e9f2cc8",
   "metadata": {
    "scrolled": true
   },
   "outputs": [
    {
     "name": "stdout",
     "output_type": "stream",
     "text": [
      "Alpha is now :0.05\n",
      "====================================================================================================\n"
     ]
    },
    {
     "name": "stderr",
     "output_type": "stream",
     "text": [
      "/tmp/ipykernel_98723/1534872411.py:23: DeprecationWarning: Use of `minimize` with `x0.ndim != 1` is deprecated. Currently, singleton dimensions will be removed from `x0`, but an error will be raised in SciPy 1.11.0.\n",
      "  out = minimize(cost_execution, x0=initial_params, method=\"COBYLA\", options={\"maxiter\": 1000}, tol=tolerance)\n"
     ]
    },
    {
     "name": "stdout",
     "output_type": "stream",
     "text": [
      "Cost at Step 0: -18.678\n",
      "[2.28463301 0.23571591]\n",
      "True\n",
      "22 iterations needed. CVaR cost ended at: -21.871999999999993\n",
      "Try 1: Success probability of training:  6.975095370655648e-06\n",
      "==================================================\n",
      "Cost at Step 0: -18.794\n",
      "[ 2.1308315  -0.03771549]\n",
      "True\n",
      "21 iterations needed. CVaR cost ended at: -20.340000000000007\n",
      "Try 2: Success probability of training:  7.878495488568579e-06\n",
      "==================================================\n",
      "Cost at Step 0: -18.931999999999995\n",
      "[1.59532561 0.02796965]\n",
      "True\n",
      "23 iterations needed. CVaR cost ended at: -20.522\n",
      "Try 3: Success probability of training:  9.848948654237347e-06\n",
      "==================================================\n",
      "Cost at Step 0: -18.811999999999998\n",
      "[1.01790683 1.12858582]\n",
      "True\n",
      "26 iterations needed. CVaR cost ended at: -20.518\n",
      "Try 4: Success probability of training:  1.1276688312036341e-07\n",
      "==================================================\n",
      "Cost at Step 0: -19.342000000000006\n"
     ]
    }
   ],
   "source": [
    "alphas = [0.05, 0.10, 0.25, 1.00]\n",
    "num_of_samples = 1000 #number of samples from the quantum computer/probability distribution\n",
    "initial_params = np.array([[0.1],[0.1]], requires_grad = True) #first vector is alphas second is betas, (2,1) for P=1, (2,2) for p=2, (2,3) for p=3...\n",
    "number_of_tests = 20 #number of times you want to run the tests for each alpha, for statistical analysis this should be high\n",
    "tolerance = 0.001 #Tolerance for when minimizer is done optimizing\n",
    "\n",
    "\n",
    "data_library = {}\n",
    "for a in alphas:\n",
    "    print('Alpha is now :'+ str(a))\n",
    "    print(\"=\"*100)\n",
    "    counter = 0\n",
    "    prob_list_list = []\n",
    "    cost_list_list = []\n",
    "    iter_needed_list = []\n",
    "    \n",
    "    for j in range(number_of_tests):\n",
    "        iterations = 0\n",
    "        params_list = []\n",
    "        prob_list = []\n",
    "        cost_list = []\n",
    "        \n",
    "        out = minimize(cost_execution, x0=initial_params, method=\"COBYLA\", options={\"maxiter\": 1000}, tol=tolerance)\n",
    "        out_params = np.reshape(out[\"x\"], (2, len(initial_params[0])))\n",
    "        print(out[\"x\"])\n",
    "        print(out[\"success\"])\n",
    "        probs = get_probs(out_params)\n",
    "        ground_energy, ground_states_i = get_ground_states_i(feasible_set, H_cost) # get the ground states\n",
    "        \n",
    "        for i in range(len(params_list)):\n",
    "            p = get_probs(params_list[i])\n",
    "            prob_list.append(float(np.sum(p[ground_states_i])))\n",
    "\n",
    "        prob_list_list.append(prob_list)\n",
    "        cost_list_list.append(cost_list)\n",
    "        iter_needed_list.append(iterations)\n",
    "        \n",
    "        counter+=1\n",
    "        print(str(iterations) + ' iterations needed. CVaR cost ended at: ' + str(cost_list[-1]))\n",
    "        print('Try ' + str(j+1) + ': Success probability of training: ', np.sum(probs[ground_states_i]))\n",
    "        print(\"=\"*50)\n",
    "    \n",
    "    data = {\n",
    "      \"CVaR cost\": cost_list_list,\n",
    "      \"Ground state probability\": prob_list_list,\n",
    "      \"Iterations needed\": iter_needed_list\n",
    "    }\n",
    "    \n",
    "    var_name = \"data_for_alpha_%s\" % a\n",
    "    data_library[var_name] = data\n",
    "    \n",
    "        "
   ]
  },
  {
   "cell_type": "code",
   "execution_count": 33,
   "id": "0dc817ce",
   "metadata": {},
   "outputs": [],
   "source": [
    "#This cell creates csv files containing the data generated in the last cell. The files are saved in the \n",
    "#folder: pettson_data_test/. \n",
    "\n",
    "for index, alpha_data in enumerate(data_library, start=0):\n",
    "    \n",
    "    df=pd.DataFrame(data_library[alpha_data])\n",
    "    \n",
    "    sek=''\n",
    "    for i in sequence: #translates 1001 to HPPH etc\n",
    "        if i==1: \n",
    "            sek+='H'\n",
    "        else: \n",
    "            sek+='P'\n",
    "            \n",
    "    #filens titel\n",
    "    parms=('sekvens: ' + str(sek) + ', gridsize: ' + str(L1)+'X'+str(L2) + ', p: ' + str(len(initial_params[0])) + \n",
    "           ', alpha: ' + str(alphas[index]) + ', Optimizer: COBYLA, tol: ' + str(tolerance) + ', initial parameters: '\n",
    "          + str(initial_params[0]) + ', ' + str(initial_params[1]) + ', samples: ' + str(num_of_samples) + ', number of tests: ' + str(number_of_tests)) \n",
    "\n",
    "    #checks if file already exists and if so adds 1 to the end of the file name 8)\n",
    "    while os.path.isfile('pettson_data_test/'+str(sek)+'/'+ str(L1)+'X'+str(L2)+'/' + str(parms) + '.csv'):\n",
    "        if parms[-1]!=1:\n",
    "            parms+=(':1')\n",
    "        else:\n",
    "            parms[-1]+=1\n",
    "\n",
    "    df.to_csv('pettson_data_test/'+str(sek)+'/'\n",
    "              + str(L1)+'X'+str(L2)+'/' + str(parms) + '.csv', \n",
    "              index=False, header = True) #save in the right folder (pettson -> sekvens -> 2X2 )"
   ]
  },
  {
   "cell_type": "code",
   "execution_count": 9,
   "id": "823d1684",
   "metadata": {
    "scrolled": true
   },
   "outputs": [
    {
     "data": {
      "image/png": "[encoded data removed]",
      "text/plain": [
       "<Figure size 640x480 with 1 Axes>"
      ]
     },
     "metadata": {},
     "output_type": "display_data"
    }
   ],
   "source": [
    "#Både denna och nästa cell ska tas bort så att dataanalysen istället görs i Data_analysis notebooken \n",
    "\n",
    "fig, ax = plt.subplots()\n",
    "for prob_vector in data_library['data_for_alpha_1.0'][\"Ground state probability\"]:    \n",
    "    ax.plot(len(prob_vector), prob_vector[-1], 'y.', linewidth=0.01)\n",
    "for prob_vector in data_library['data_for_alpha_0.25'][\"Ground state probability\"]:    \n",
    "    ax.plot(len(prob_vector), prob_vector[-1], 'b.', linewidth=0.01)\n",
    "for prob_vector in data_library['data_for_alpha_0.1'][\"Ground state probability\"]:    \n",
    "    ax.plot(len(prob_vector), prob_vector[-1], 'g.', linewidth=0.01)\n",
    "for prob_vector in data_library['data_for_alpha_0.05'][\"Ground state probability\"]:    \n",
    "    ax.plot(len(prob_vector), prob_vector[-1], 'r.', linewidth=0.01)\n",
    "plt.xlabel('Iterations')\n",
    "plt.ylabel('Groundstate probability')\n",
    "plt.show()"
   ]
  },
  {
   "cell_type": "code",
   "execution_count": 10,
   "id": "bc016845",
   "metadata": {},
   "outputs": [
    {
     "data": {
      "image/png": "[encoded data removed]",
      "text/plain": [
       "<Figure size 640x480 with 1 Axes>"
      ]
     },
     "metadata": {},
     "output_type": "display_data"
    }
   ],
   "source": [
    "fig, ax = plt.subplots()\n",
    "for cost_vector in data_library['data_for_alpha_1.0'][\"CVaR cost\"]:    \n",
    "    ax.plot(len(cost_vector), cost_vector[-1], 'y.', linewidth=1)\n",
    "for cost_vector in data_library['data_for_alpha_0.25'][\"CVaR cost\"]:    \n",
    "    ax.plot(len(cost_vector), cost_vector[-1], 'b.', linewidth=1)\n",
    "for cost_vector in data_library['data_for_alpha_0.1'][\"CVaR cost\"]:    \n",
    "    ax.plot(len(cost_vector), cost_vector[-1], 'g.', linewidth=1)\n",
    "for cost_vector in data_library['data_for_alpha_0.05'][\"CVaR cost\"]:    \n",
    "    ax.plot(len(cost_vector), cost_vector[-1], 'r.', linewidth=1)\n",
    "plt.xlabel('Iterations')\n",
    "plt.ylabel('Cost')\n",
    "plt.show()"
   ]
  },
  {
   "cell_type": "code",
   "execution_count": null,
   "id": "e0cc1b4f",
   "metadata": {},
   "outputs": [],
   "source": []
  }
 ],
 "metadata": {
  "kernelspec": {
   "display_name": "Python 3 (ipykernel)",
   "language": "python",
   "name": "python3"
  },
  "language_info": {
   "codemirror_mode": {
    "name": "ipython",
    "version": 3
   },
   "file_extension": ".py",
   "mimetype": "text/x-python",
   "name": "python",
   "nbconvert_exporter": "python",
   "pygments_lexer": "ipython3",
   "version": "3.10.6"
  }
 },
 "nbformat": 4,
 "nbformat_minor": 5
}
