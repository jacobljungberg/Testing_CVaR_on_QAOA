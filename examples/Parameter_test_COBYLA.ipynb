{
 "cells": [
  {
   "cell_type": "code",
   "execution_count": 2,
   "id": "700f47fc",
   "metadata": {},
   "outputs": [],
   "source": [
    "%load_ext autoreload\n",
    "%autoreload 2\n",
    "\n",
    "import pennylane as qml\n",
    "import math\n",
    "from pennylane import qaoa\n",
    "from pennylane import numpy as np\n",
    "import matplotlib.pyplot as plt\n",
    "from vqa.hamiltonian.protein_folding import protein_folding_hamiltonian\n",
    "from vqa.hamiltonian.Protein_models.CoordinateBased_HPLattice import CoordinateBased_HPLattice\n",
    "from vqa.utils.protein_utils import *\n",
    "from collections import Counter\n",
    "import pandas as pd\n",
    "import csv\n",
    "import os.path\n",
    "import scipy\n",
    "from scipy.optimize import minimize"
   ]
  },
  {
   "cell_type": "code",
   "execution_count": 3,
   "id": "83306f5d",
   "metadata": {},
   "outputs": [
    {
     "name": "stdout",
     "output_type": "stream",
     "text": [
      "\n",
      "O:\n",
      "[-2.1, -2.1, -2.1, -2.1, -2.1, -2.1, -2.1, -2.1]\n",
      "T:\n",
      "[[ 0.   4.2  0.   0.   2.4  0.  -1.  -1. ]\n",
      " [ 4.2  0.   0.   0.   0.   2.4 -1.  -1. ]\n",
      " [ 0.   0.   0.   4.2  0.   0.   2.4  0. ]\n",
      " [ 0.   0.   4.2  0.   0.   0.   0.   2.4]\n",
      " [ 2.4  0.   0.   0.   0.   4.2  0.   0. ]\n",
      " [ 0.   2.4  0.   0.   4.2  0.   0.   0. ]\n",
      " [-1.  -1.   2.4  0.   0.   0.   0.   4.2]\n",
      " [-1.  -1.   0.   2.4  0.   0.   4.2  0. ]]\n",
      "Dn:\n",
      "[2, 2, 2, 2]\n"
     ]
    }
   ],
   "source": [
    "# Make an instance for the protein\n",
    "sequence = [1,0,0,1] #HPPH\n",
    "L1 = 2\n",
    "L2 = 2\n",
    "\n",
    "lambda_vector = (2.1, 2.4, 3)\n",
    "\n",
    "protein = CoordinateBased_HPLattice((L1, L2), sequence = sequence, lambda_vector = lambda_vector)\n",
    "print(protein)\n",
    "protein.calc_solution_sets()\n",
    "feasible_set = np.array(protein.feasible_set)"
   ]
  },
  {
   "cell_type": "code",
   "execution_count": 4,
   "id": "84a1d267",
   "metadata": {},
   "outputs": [],
   "source": [
    "# Make into Hamiltonian\n",
    "H_cost = protein_folding_hamiltonian(protein)\n",
    "num_qubits = protein.num_bits\n",
    "qubits = range(protein.num_bits)\n",
    "\n",
    "H_mixer = qaoa.x_mixer(qubits)"
   ]
  },
  {
   "cell_type": "code",
   "execution_count": 39,
   "id": "58e7f972",
   "metadata": {},
   "outputs": [],
   "source": [
    "dev = qml.device('default.qubit', wires = qubits)\n",
    "\n",
    "# Put the Mixer and Cost Hamiltonians in a layer so that we can repeat it\n",
    "def qaoa_layer(gamma, beta):\n",
    "    qaoa.cost_layer(gamma, H_cost)\n",
    "    qaoa.mixer_layer(beta, H_mixer)\n",
    "    \n",
    "# Then repeat it in a circuit with starting in a super position of all bitstrings\n",
    "def circuit(params): # Gamma and Beta values can be put together to be an array of parameters\n",
    "    for q in qubits:     # To start in a superposition we place a Hadamard on all qubits\n",
    "        qml.Hadamard(wires = q)\n",
    "    qml.layer(qaoa_layer, len(params[0]), params[0], params[1])\n",
    "    \n",
    "# Obtains the probability for all the states\n",
    "@qml.qnode(dev)\n",
    "def get_probs(params):\n",
    "    circuit(params)\n",
    "    return qml.probs(wires = qubits)\n",
    "\n",
    "def CVaRsamp(params, alpha=0.3, n=100):#n=antal samples\n",
    "    circuit(params)\n",
    "    \n",
    "    probs = get_probs(params)  # hämta sannolikhetsfördelningen (matris, första värdet är p(00000000), andra är p(00000001) osv)\n",
    "    \n",
    "    index_samples= np.random.choice(np.arange(len(probs), dtype=int), size=n, replace=True,p=probs)  # tar n samples av probs, ger skum lista med index motsvarande konfiguration (index 0 är tillståndet 00000000, index 1 =00000001 osv)\n",
    "    energy_of_samples=energies_of_set(protein.get_solution_set(), H_cost,8) [index_samples]  #ger en lista där index i index_samples är utbytta mot deras motsvarande energi. \n",
    "    sorted_energy_samples=sort_over_threshhold(energy_of_samples,-10)[0] #sorterar hela energilistan\n",
    "    K=int(alpha*n) #antal samples att ta väntevärde över. \n",
    "    summa=sum(sorted_energy_samples[:K]) #summera de K minsta energierna.\n",
    "    expvalue=np.float64(summa/K)\n",
    "    \n",
    "    return expvalue"
   ]
  },
  {
   "cell_type": "code",
   "execution_count": 53,
   "id": "46d0ca1b",
   "metadata": {},
   "outputs": [],
   "source": [
    "def cost_execution(params):\n",
    "    params = np.reshape(params, (2, 2))\n",
    "\n",
    "    global iterations\n",
    "\n",
    "    cost = CVaRsamp(params, n=num_of_samples)\n",
    "\n",
    "    #if iterations % 50 == 0:\n",
    "    print(\"Cost at Step {}: {}\".format(iterations, cost))\n",
    "\n",
    "    iterations += 1\n",
    "    return cost"
   ]
  },
  {
   "cell_type": "code",
   "execution_count": 59,
   "id": "e839d572",
   "metadata": {},
   "outputs": [
    {
     "name": "stdout",
     "output_type": "stream",
     "text": [
      "(2, 2)\n",
      "Cost at Step 0: -1.693333333333333\n",
      "Cost at Step 1: -2.2466666666666675\n",
      "Cost at Step 2: -4.08\n"
     ]
    },
    {
     "name": "stderr",
     "output_type": "stream",
     "text": [
      "/var/folders/cw/p649yvnd6tl_8jn4s2cchc7m0000gn/T/ipykernel_6415/520255164.py:9: DeprecationWarning: Use of `minimize` with `x0.ndim != 1` is deprecated. Currently, singleton dimensions will be removed from `x0`, but an error will be raised in SciPy 1.11.0.\n",
      "  out = minimize(cost_execution, x0=initial_params, method=\"COBYLA\", options={\"maxiter\": 10}, tol=0.0001)\n"
     ]
    },
    {
     "name": "stdout",
     "output_type": "stream",
     "text": [
      "Cost at Step 3: -1.9066666666666665\n",
      "Cost at Step 4: -2.9866666666666664\n",
      "Cost at Step 5: -2.56\n",
      "Cost at Step 6: -2.106666666666667\n",
      "Cost at Step 7: -3.6466666666666674\n",
      "Cost at Step 8: -2.326666666666667\n",
      "Cost at Step 9: -4.153333333333333\n",
      "[[1.07100363 0.33422393]\n",
      " [1.57623719 0.46859535]]\n",
      "False\n",
      "Try 0: Success probability of training:  0.1338524039455679\n",
      "For: 50 samples, the prob of measuring any groundstate was at least 5% : -1 times out of 0 tries.\n",
      "====================\n"
     ]
    }
   ],
   "source": [
    "iterations = 0\n",
    "p=2\n",
    "counter = 0\n",
    "j=0\n",
    "num_of_samples=50\n",
    "\n",
    "initial_params=np.array([[0.1, 0.1], [0.5, 0.5]], requires_grad = True)\n",
    "print(initial_params.shape)\n",
    "out = minimize(cost_execution, x0=initial_params, method=\"COBYLA\", options={\"maxiter\": 10}, tol=0.0001)\n",
    "out_params = out[\"x\"]\n",
    "print(out[\"x\"])\n",
    "print(out[\"success\"])\n",
    "probs = get_probs(out_params)\n",
    "\n",
    "ground_energy, ground_states_i = get_ground_states_i(feasible_set, H_cost) # get the ground states\n",
    "\n",
    "#if np.sum(probs[ground_states_i]) < 0.05:\n",
    "counter+=1\n",
    "print('Try ' + str(j) + ': Success probability of training: ', np.sum(probs[ground_states_i]))\n",
    "print('For: ' + str(num_of_samples) + ' samples, the prob of measuring any groundstate was at least 5% : ' + str(j-counter) + ' times out of ' + str(j) + ' tries.')\n",
    "print(\"=\"*20)"
   ]
  },
  {
   "cell_type": "code",
   "execution_count": null,
   "id": "823d1684",
   "metadata": {},
   "outputs": [],
   "source": []
  }
 ],
 "metadata": {
  "kernelspec": {
   "display_name": "Python 3 (ipykernel)",
   "language": "python",
   "name": "python3"
  },
  "language_info": {
   "codemirror_mode": {
    "name": "ipython",
    "version": 3
   },
   "file_extension": ".py",
   "mimetype": "text/x-python",
   "name": "python",
   "nbconvert_exporter": "python",
   "pygments_lexer": "ipython3",
   "version": "3.9.16"
  }
 },
 "nbformat": 4,
 "nbformat_minor": 5
}
