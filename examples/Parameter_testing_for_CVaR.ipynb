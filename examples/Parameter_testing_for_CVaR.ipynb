{
 "cells": [
  {
   "cell_type": "code",
   "execution_count": 8,
   "id": "461bf1f2",
   "metadata": {},
   "outputs": [
    {
     "name": "stdout",
     "output_type": "stream",
     "text": [
      "The autoreload extension is already loaded. To reload it, use:\n",
      "  %reload_ext autoreload\n"
     ]
    }
   ],
   "source": [
    "%load_ext autoreload\n",
    "%autoreload 2\n",
    "\n",
    "import pennylane as qml\n",
    "import math\n",
    "from pennylane import qaoa\n",
    "from pennylane import numpy as np\n",
    "import matplotlib.pyplot as plt\n",
    "from vqa.hamiltonian.protein_folding import protein_folding_hamiltonian\n",
    "from vqa.hamiltonian.Protein_models.CoordinateBased_HPLattice import CoordinateBased_HPLattice\n",
    "from vqa.utils.protein_utils import *\n",
    "from collections import Counter"
   ]
  },
  {
   "cell_type": "code",
   "execution_count": 9,
   "id": "82a6d50e",
   "metadata": {},
   "outputs": [
    {
     "name": "stdout",
     "output_type": "stream",
     "text": [
      "\n",
      "O:\n",
      "[-2.1, -2.1, -2.1, -2.1, -2.1, -2.1, -2.1, -2.1]\n",
      "T:\n",
      "[[ 0.   4.2  0.   0.   2.4  0.  -1.  -1. ]\n",
      " [ 4.2  0.   0.   0.   0.   2.4 -1.  -1. ]\n",
      " [ 0.   0.   0.   4.2  0.   0.   2.4  0. ]\n",
      " [ 0.   0.   4.2  0.   0.   0.   0.   2.4]\n",
      " [ 2.4  0.   0.   0.   0.   4.2  0.   0. ]\n",
      " [ 0.   2.4  0.   0.   4.2  0.   0.   0. ]\n",
      " [-1.  -1.   2.4  0.   0.   0.   0.   4.2]\n",
      " [-1.  -1.   0.   2.4  0.   0.   4.2  0. ]]\n",
      "Dn:\n",
      "[2, 2, 2, 2]\n"
     ]
    }
   ],
   "source": [
    "# Make an instance for the protein\n",
    "sequence = [1,0,0,1] #HPPH\n",
    "L1 = 2\n",
    "L2 = 2\n",
    "\n",
    "lambda_vector = (2.1, 2.4, 3)\n",
    "\n",
    "protein = CoordinateBased_HPLattice((L1, L2), sequence = sequence, lambda_vector = lambda_vector)\n",
    "print(protein)\n",
    "protein.calc_solution_sets()\n",
    "feasible_set = np.array(protein.feasible_set)"
   ]
  },
  {
   "cell_type": "code",
   "execution_count": 10,
   "id": "3e2dd2e5",
   "metadata": {},
   "outputs": [],
   "source": [
    "# Make into Hamiltonian\n",
    "H_cost = protein_folding_hamiltonian(protein)\n",
    "num_qubits = protein.num_bits\n",
    "qubits = range(protein.num_bits)\n",
    "\n",
    "H_mixer = qaoa.x_mixer(qubits)"
   ]
  },
  {
   "cell_type": "code",
   "execution_count": 34,
   "id": "00c79346",
   "metadata": {},
   "outputs": [],
   "source": [
    "dev = qml.device('default.qubit', wires = qubits)\n",
    "\n",
    "# Put the Mixer and Cost Hamiltonians in a layer so that we can repeat it\n",
    "def qaoa_layer(gamma, beta):\n",
    "    qaoa.cost_layer(gamma, H_cost)\n",
    "    qaoa.mixer_layer(beta, H_mixer)\n",
    "    \n",
    "# Then repeat it in a circuit with starting in a super position of all bitstrings\n",
    "def circuit(params):     # Gamma and Beta values can be put together to be an array of parameters\n",
    "    for q in qubits:     # To start in a superposition we place a Hadamard on all qubits\n",
    "        qml.Hadamard(wires = q)\n",
    "    qml.layer(qaoa_layer, len(params[0]), params[0], params[1])\n",
    "    \n",
    "# Obtains the probability for all the states\n",
    "@qml.qnode(dev)\n",
    "def get_probs(params):\n",
    "    circuit(params)\n",
    "    return qml.probs(wires = qubits)\n",
    "\n",
    "def CVaR(params,alpha=0.25):\n",
    "    circuit(params)\n",
    "    \n",
    "    Energy_list = get_energies_index_states(H_cost)\n",
    "    Energy_array = np.column_stack((Energy_list, get_probs(params)))\n",
    "    Energy_array = Energy_array[Energy_array[:, 0].argsort()]\n",
    "    \n",
    "    Energy_vector = Energy_array[0:math.ceil(len(Energy_list)*alpha),0]\n",
    "    Probability_vector = Energy_array[0:math.ceil(len(Energy_list)*alpha),1]\n",
    "    exp_CVaR = np.dot(Energy_vector, Probability_vector)\n",
    "    \n",
    "    #exp_CVaR=exp_CVaR/sum(Probability_vector) #-- tror detta kanske ska vara med för att normalisera. Optimeringen blir shit dock\n",
    "    \n",
    "    return exp_CVaR\n",
    "\n",
    "@qml.qnode(dev)\n",
    "def CVaRsamp(params, alpha=0.25, n=1000):#n=antal samples\n",
    "    \n",
    "    circuit(params)\n",
    "    \n",
    "    probs = get_probs(params)  # hämta sannolikhetsfördelningen (matris, första värdet är p(00000000), andra är p(00000001) osv)\n",
    "    \n",
    "    index_samples= np.random.choice(np.arange(len(probs), dtype=int), size=n, replace=True,p=probs)  # tar n samples av probs, ger skum lista med index motsvarande konfiguration (index 0 är tillståndet 00000000, index 1 =00000001 osv)\n",
    "    energy_of_samples=energies_of_set(protein.get_solution_set(), H_cost,8) [index_samples]  #ger en lista där index i index_samples är utbytta mot deras motsvarande energi. \n",
    "    sorted_energy_samples=sort_over_threshhold(energy_of_samples,-10)[0] #sorterar hela energilistan\n",
    "    K=int(alpha*n) #antal samples att ta väntevärde över. \n",
    "    summa=sum(sorted_energy_samples[:K]) #summera de K minsta energierna.\n",
    "    expvalue=np.float64(summa/K)\n",
    "    print(type(expvalue))\n",
    "    return expvalue"
   ]
  },
  {
   "cell_type": "code",
   "execution_count": 35,
   "id": "443da7a3",
   "metadata": {},
   "outputs": [
    {
     "name": "stdout",
     "output_type": "stream",
     "text": [
      "<class 'numpy.float64'>\n"
     ]
    },
    {
     "ename": "QuantumFunctionError",
     "evalue": "A quantum function must return either a single measurement, or a nonempty sequence of measurements.",
     "output_type": "error",
     "traceback": [
      "\u001b[0;31m---------------------------------------------------------------------------\u001b[0m",
      "\u001b[0;31mQuantumFunctionError\u001b[0m                      Traceback (most recent call last)",
      "Input \u001b[0;32mIn [35]\u001b[0m, in \u001b[0;36m<cell line: 9>\u001b[0;34m()\u001b[0m\n\u001b[1;32m      6\u001b[0m p \u001b[38;5;241m=\u001b[39m \u001b[38;5;241m2\u001b[39m\n\u001b[1;32m      8\u001b[0m cost_vector \u001b[38;5;241m=\u001b[39m np\u001b[38;5;241m.\u001b[39mzeros(steps)\n\u001b[0;32m----> 9\u001b[0m cost_vector[\u001b[38;5;241m0\u001b[39m] \u001b[38;5;241m=\u001b[39m \u001b[43mCVaRsamp\u001b[49m\u001b[43m(\u001b[49m\u001b[43minitial_params\u001b[49m\u001b[43m)\u001b[49m \u001b[38;5;66;03m#cvar\u001b[39;00m\n\u001b[1;32m     10\u001b[0m params_vector \u001b[38;5;241m=\u001b[39m np\u001b[38;5;241m.\u001b[39mzeros((steps, \u001b[38;5;241m2\u001b[39m, p))\n\u001b[1;32m     12\u001b[0m params \u001b[38;5;241m=\u001b[39m initial_params\n",
      "File \u001b[0;32m~/opt/anaconda3/lib/python3.9/site-packages/pennylane/qnode.py:800\u001b[0m, in \u001b[0;36mQNode.__call__\u001b[0;34m(self, *args, **kwargs)\u001b[0m\n\u001b[1;32m    797\u001b[0m         set_shots(\u001b[38;5;28mself\u001b[39m\u001b[38;5;241m.\u001b[39m_original_device, override_shots)(\u001b[38;5;28mself\u001b[39m\u001b[38;5;241m.\u001b[39m_update_gradient_fn)()\n\u001b[1;32m    799\u001b[0m \u001b[38;5;66;03m# construct the tape\u001b[39;00m\n\u001b[0;32m--> 800\u001b[0m \u001b[38;5;28;43mself\u001b[39;49m\u001b[38;5;241;43m.\u001b[39;49m\u001b[43mconstruct\u001b[49m\u001b[43m(\u001b[49m\u001b[43margs\u001b[49m\u001b[43m,\u001b[49m\u001b[43m \u001b[49m\u001b[43mkwargs\u001b[49m\u001b[43m)\u001b[49m\n\u001b[1;32m    802\u001b[0m cache \u001b[38;5;241m=\u001b[39m \u001b[38;5;28mself\u001b[39m\u001b[38;5;241m.\u001b[39mexecute_kwargs\u001b[38;5;241m.\u001b[39mget(\u001b[38;5;124m\"\u001b[39m\u001b[38;5;124mcache\u001b[39m\u001b[38;5;124m\"\u001b[39m, \u001b[38;5;28;01mFalse\u001b[39;00m)\n\u001b[1;32m    803\u001b[0m using_custom_cache \u001b[38;5;241m=\u001b[39m (\n\u001b[1;32m    804\u001b[0m     \u001b[38;5;28mhasattr\u001b[39m(cache, \u001b[38;5;124m\"\u001b[39m\u001b[38;5;124m__getitem__\u001b[39m\u001b[38;5;124m\"\u001b[39m)\n\u001b[1;32m    805\u001b[0m     \u001b[38;5;129;01mand\u001b[39;00m \u001b[38;5;28mhasattr\u001b[39m(cache, \u001b[38;5;124m\"\u001b[39m\u001b[38;5;124m__setitem__\u001b[39m\u001b[38;5;124m\"\u001b[39m)\n\u001b[1;32m    806\u001b[0m     \u001b[38;5;129;01mand\u001b[39;00m \u001b[38;5;28mhasattr\u001b[39m(cache, \u001b[38;5;124m\"\u001b[39m\u001b[38;5;124m__delitem__\u001b[39m\u001b[38;5;124m\"\u001b[39m)\n\u001b[1;32m    807\u001b[0m )\n",
      "File \u001b[0;32m~/opt/anaconda3/lib/python3.9/site-packages/pennylane/qnode.py:729\u001b[0m, in \u001b[0;36mQNode.construct\u001b[0;34m(self, args, kwargs)\u001b[0m\n\u001b[1;32m    724\u001b[0m     measurement_processes \u001b[38;5;241m=\u001b[39m \u001b[38;5;28mself\u001b[39m\u001b[38;5;241m.\u001b[39m_qfunc_output\n\u001b[1;32m    726\u001b[0m \u001b[38;5;28;01mif\u001b[39;00m \u001b[38;5;129;01mnot\u001b[39;00m \u001b[38;5;28mall\u001b[39m(\n\u001b[1;32m    727\u001b[0m     \u001b[38;5;28misinstance\u001b[39m(m, qml\u001b[38;5;241m.\u001b[39mmeasurements\u001b[38;5;241m.\u001b[39mMeasurementProcess) \u001b[38;5;28;01mfor\u001b[39;00m m \u001b[38;5;129;01min\u001b[39;00m measurement_processes\n\u001b[1;32m    728\u001b[0m ):\n\u001b[0;32m--> 729\u001b[0m     \u001b[38;5;28;01mraise\u001b[39;00m qml\u001b[38;5;241m.\u001b[39mQuantumFunctionError(\n\u001b[1;32m    730\u001b[0m         \u001b[38;5;124m\"\u001b[39m\u001b[38;5;124mA quantum function must return either a single measurement, \u001b[39m\u001b[38;5;124m\"\u001b[39m\n\u001b[1;32m    731\u001b[0m         \u001b[38;5;124m\"\u001b[39m\u001b[38;5;124mor a nonempty sequence of measurements.\u001b[39m\u001b[38;5;124m\"\u001b[39m\n\u001b[1;32m    732\u001b[0m     )\n\u001b[1;32m    734\u001b[0m terminal_measurements \u001b[38;5;241m=\u001b[39m [\n\u001b[1;32m    735\u001b[0m     m \u001b[38;5;28;01mfor\u001b[39;00m m \u001b[38;5;129;01min\u001b[39;00m \u001b[38;5;28mself\u001b[39m\u001b[38;5;241m.\u001b[39mtape\u001b[38;5;241m.\u001b[39mmeasurements \u001b[38;5;28;01mif\u001b[39;00m \u001b[38;5;129;01mnot\u001b[39;00m \u001b[38;5;28misinstance\u001b[39m(m, MidMeasureMP)\n\u001b[1;32m    736\u001b[0m ]\n\u001b[1;32m    737\u001b[0m \u001b[38;5;28;01mif\u001b[39;00m \u001b[38;5;28many\u001b[39m(ret \u001b[38;5;241m!=\u001b[39m m \u001b[38;5;28;01mfor\u001b[39;00m ret, m \u001b[38;5;129;01min\u001b[39;00m \u001b[38;5;28mzip\u001b[39m(measurement_processes, terminal_measurements)):\n",
      "\u001b[0;31mQuantumFunctionError\u001b[0m: A quantum function must return either a single measurement, or a nonempty sequence of measurements."
     ]
    }
   ],
   "source": [
    "# Optimisation of the circuit\n",
    "\n",
    "optimiser = qml.GradientDescentOptimizer()\n",
    "steps = 100\n",
    "initial_params = np.array([[0.5, 0.5], [0.5, 0.5]], requires_grad = True)\n",
    "p = 2\n",
    "\n",
    "cost_vector = np.zeros(steps)\n",
    "cost_vector[0] = CVaRsamp(initial_params) #cvar\n",
    "params_vector = np.zeros((steps, 2, p))\n",
    "\n",
    "params = initial_params\n",
    "for i in range(steps):\n",
    "    params_vector[i] = params\n",
    "    params, cost_ = optimiser.step_and_cost(CVaRsamp, params) #cvar\n",
    "    cost_vector[i] = cost_\n",
    "\n",
    "best_params_optimisation = params\n",
    "print('Optimal parameters:\\n', best_params_optimisation)\n",
    "#print('Average cost for the best parameters:\\n', average_cost(best_params_optimisation))"
   ]
  },
  {
   "cell_type": "code",
   "execution_count": null,
   "id": "fe629e46",
   "metadata": {},
   "outputs": [],
   "source": []
  }
 ],
 "metadata": {
  "kernelspec": {
   "display_name": "Python 3 (ipykernel)",
   "language": "python",
   "name": "python3"
  },
  "language_info": {
   "codemirror_mode": {
    "name": "ipython",
    "version": 3
   },
   "file_extension": ".py",
   "mimetype": "text/x-python",
   "name": "python",
   "nbconvert_exporter": "python",
   "pygments_lexer": "ipython3",
   "version": "3.9.12"
  }
 },
 "nbformat": 4,
 "nbformat_minor": 5
}
