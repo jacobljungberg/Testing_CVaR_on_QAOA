{
 "cells": [
  {
   "cell_type": "code",
   "execution_count": 24,
   "metadata": {},
   "outputs": [
    {
     "name": "stdout",
     "output_type": "stream",
     "text": [
      "The autoreload extension is already loaded. To reload it, use:\n",
      "  %reload_ext autoreload\n"
     ]
    }
   ],
   "source": [
    "%load_ext autoreload\n",
    "%autoreload 3\n",
    "%matplotlib inline\n",
    "\n",
    "import numpy as np\n",
    "import qiskit\n",
    "import pennylane as qml\n",
    "from vqa.transpiler.architectures import (\n",
    "    FakeChalmers4,\n",
    "    FakeChalmers6,\n",
    "    FakeChalmers9,\n",
    "    FakeChalmers20,\n",
    ")\n",
    "from vqa import transforms\n",
    "\n",
    "from vqa.templates.examples import h2_vqe_circuit, BarrenPlateauCircuit\n",
    "from vqa.transpiler import transpile_circuit"
   ]
  },
  {
   "cell_type": "markdown",
   "metadata": {},
   "source": [
    "## The quantum circuit before transpilation"
   ]
  },
  {
   "cell_type": "code",
   "execution_count": 25,
   "metadata": {},
   "outputs": [
    {
     "name": "stdout",
     "output_type": "stream",
     "text": [
      "[2.46321494 4.19531499 1.33478504 3.1314761 ]\n"
     ]
    }
   ],
   "source": [
    "circuit_ansatz = BarrenPlateauCircuit(num_layers=1, num_qubits=4)\n",
    "# circuit_h2 = h2_vqe_circuit(num_layers=1)\n",
    "params = circuit_ansatz.init()\n",
    "\n",
    "print(params)"
   ]
  },
  {
   "cell_type": "code",
   "execution_count": 26,
   "metadata": {},
   "outputs": [],
   "source": [
    "# circuit = transforms.exp_val(circuit, H=circuit.H, wires=circuit.wires)\n",
    "dev = qml.device(\"default.qubit\", wires=circuit_ansatz.wires)\n",
    "\n",
    "\n",
    "@qml.qnode(dev)\n",
    "def circuit(params):\n",
    "    circuit_ansatz(params)\n",
    "    return qml.expval(circuit_ansatz.H)\n",
    "\n",
    "\n",
    "circuit = transforms.exp_val(circuit_ansatz)"
   ]
  },
  {
   "cell_type": "code",
   "execution_count": 27,
   "metadata": {},
   "outputs": [
    {
     "data": {
      "text/plain": [
       "'0: ──RY(0.79)──RX(2.46)─╭||─╭●────╭Z─╭||─┤ ╭<𝓗(1.00)>\\n1: ──RY(0.79)──RZ(4.20)─├||─╰Z─╭●─│──├||─┤ ╰<𝓗(1.00)>\\n2: ──RY(0.79)──RZ(1.33)─├||─╭●─╰Z─│──├||─┤           \\n3: ──RY(0.79)──RY(3.13)─╰||─╰Z────╰●─╰||─┤           '"
      ]
     },
     "execution_count": 27,
     "metadata": {},
     "output_type": "execute_result"
    }
   ],
   "source": [
    "qml.draw(circuit)(params)"
   ]
  },
  {
   "cell_type": "code",
   "execution_count": 28,
   "metadata": {},
   "outputs": [
    {
     "name": "stderr",
     "output_type": "stream",
     "text": [
      "/Users/davidfitzek/miniforge3/envs/vqa/lib/python3.10/site-packages/numpy/linalg/linalg.py:2154: RuntimeWarning: divide by zero encountered in det\n",
      "  r = _umath_linalg.det(a, signature=signature)\n",
      "/Users/davidfitzek/miniforge3/envs/vqa/lib/python3.10/site-packages/numpy/linalg/linalg.py:2154: RuntimeWarning: invalid value encountered in det\n",
      "  r = _umath_linalg.det(a, signature=signature)\n"
     ]
    },
    {
     "data": {
      "image/png": "[encoded data removed]",
      "text/plain": [
       "<Figure size 872.774x451.5 with 1 Axes>"
      ]
     },
     "execution_count": 28,
     "metadata": {},
     "output_type": "execute_result"
    }
   ],
   "source": [
    "transforms.draw(circuit_ansatz)"
   ]
  },
  {
   "cell_type": "markdown",
   "metadata": {},
   "source": [
    "# Transpiling the circuit to the chalmers hardware"
   ]
  },
  {
   "cell_type": "code",
   "execution_count": 29,
   "metadata": {},
   "outputs": [],
   "source": [
    "backend = FakeChalmers9()\n",
    "\n",
    "transpiled_circuit_ansatz = transpile_circuit(\n",
    "    circuit_ansatz, backend=backend, params=params\n",
    ")"
   ]
  },
  {
   "cell_type": "code",
   "execution_count": 30,
   "metadata": {},
   "outputs": [],
   "source": [
    "# update circuit ansatz\n",
    "circuit_ansatz.update_circuit_ansatz(transpiled_circuit_ansatz, backend.n_qubits)"
   ]
  },
  {
   "cell_type": "code",
   "execution_count": 31,
   "metadata": {},
   "outputs": [
    {
     "name": "stdout",
     "output_type": "stream",
     "text": [
      "0.999999999999999\n"
     ]
    }
   ],
   "source": [
    "circuit = transforms.exp_val(circuit_ansatz)\n",
    "exp_val_after = circuit(params)\n",
    "\n",
    "print(exp_val_after)"
   ]
  },
  {
   "cell_type": "markdown",
   "metadata": {},
   "source": [
    "# Circuit specs \n",
    "Usually we are interested in the overall circuit depth of the quantum circuit."
   ]
  },
  {
   "cell_type": "code",
   "execution_count": 32,
   "metadata": {},
   "outputs": [
    {
     "data": {
      "text/plain": [
       "{'gate_sizes': defaultdict(int, {1: 41, 2: 7}),\n",
       " 'gate_types': defaultdict(int,\n",
       "             {'RX': 16, 'RZ': 19, 'ISWAP': 7, 'Hadamard': 6}),\n",
       " 'num_operations': 48,\n",
       " 'num_observables': 1,\n",
       " 'num_diagonalizing_gates': 0,\n",
       " 'num_used_wires': 6,\n",
       " 'depth': 15,\n",
       " 'num_trainable_params': 4,\n",
       " 'num_device_wires': 9,\n",
       " 'device_name': 'default.qubit.autograd',\n",
       " 'expansion_strategy': 'gradient',\n",
       " 'gradient_options': {},\n",
       " 'interface': 'autograd',\n",
       " 'diff_method': 'best',\n",
       " 'gradient_fn': 'backprop'}"
      ]
     },
     "execution_count": 32,
     "metadata": {},
     "output_type": "execute_result"
    }
   ],
   "source": [
    "qml.specs(circuit)(params)"
   ]
  },
  {
   "cell_type": "code",
   "execution_count": 33,
   "metadata": {},
   "outputs": [],
   "source": [
    "# seesm to be buggy, even though the gate sequence indicates only ISwap gates it shows CNOts instead.\n",
    "\n",
    "# transforms.draw(circuit_ansatz, params=params, wires=range(backend.n_qubits))\n",
    "\n",
    "# dev = qml.device(\"qiskit.aer\", wires=range(backend.n_qubits))\n",
    "\n",
    "# @qml.qnode(dev)\n",
    "# def _circuit(x):\n",
    "#     transpiled_circuit_ansatz(x)\n",
    "#     return qml.expval(circuit_ansatz.H)\n",
    "\n",
    "# _circuit(params)  # Don't forget to run the circuit once for initialization.\n",
    "\n",
    "# dev._circuit.draw(output=\"mpl\")"
   ]
  },
  {
   "cell_type": "code",
   "execution_count": 34,
   "metadata": {},
   "outputs": [
    {
     "name": "stdout",
     "output_type": "stream",
     "text": [
      "0: ───────────────────────────────────────────────────────────────────────────────────────────\n",
      "1: ───────────────────────────────────────────────────────────────────────────────────────────\n",
      "4: ──RX(1.57)──RZ(0.79)──RX(-1.57)──RZ(2.46)──RZ(-1.87)───────────╭ISWAP──RZ(1.66)───RX(3.14)─\n",
      "5: ──RX(1.57)──RZ(0.79)──RX(-1.57)──RX(4.20)──RZ(0.09)───RX(3.14)─╰ISWAP──RZ(-1.27)──RX(1.57)─\n",
      "7: ──RX(1.57)──RZ(0.79)──RX(-1.57)──RZ(1.33)──RZ(3.14)──╭ISWAP─────H─────╭ISWAP──────RX(-1.57)\n",
      "8: ──RX(1.57)──RZ(0.79)──RX(-1.57)──RZ(3.13)──H─────────╰ISWAP───────────╰ISWAP──────RZ(1.57)─\n",
      "\n",
      "──────────────────────────────────────────────────────────────────────────────────────────┤ ╭<𝓗(1.00)>\n",
      "──────────────────────────────────────────────────────────────────────────────────────────┤ ╰<𝓗(1.00)>\n",
      "────────────╭ISWAP──H─╭ISWAP──RX(-3.14)──RZ(-1.57)────────────────────────────────────────┤           \n",
      "───RZ(1.57)─│─────────│────────────────────────────╭ISWAP────╭ISWAP──H──────────RZ(1.57)──┤           \n",
      "───RZ(1.57)─╰ISWAP────╰ISWAP──H──────────RZ(1.57)──│─────────│────────────────────────────┤           \n",
      "───RX(1.57)────────────────────────────────────────╰ISWAP──H─╰ISWAP──RX(-3.14)──RZ(-1.57)─┤           \n"
     ]
    }
   ],
   "source": [
    "print(qml.draw(circuit)(params))"
   ]
  },
  {
   "cell_type": "code",
   "execution_count": null,
   "metadata": {},
   "outputs": [],
   "source": []
  }
 ],
 "metadata": {
  "kernelspec": {
   "display_name": "Python 3 (ipykernel)",
   "language": "python",
   "name": "python3"
  },
  "language_info": {
   "codemirror_mode": {
    "name": "ipython",
    "version": 3
   },
   "file_extension": ".py",
   "mimetype": "text/x-python",
   "name": "python",
   "nbconvert_exporter": "python",
   "pygments_lexer": "ipython3",
   "version": "3.10.6"
  },
  "vscode": {
   "interpreter": {
    "hash": "23a1192c541ab84f6bb8596ddf275e4ffe2afe306cc45b2153ee66ad959326f6"
   }
  }
 },
 "nbformat": 4,
 "nbformat_minor": 2
}
